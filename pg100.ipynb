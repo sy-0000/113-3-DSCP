{
 "cells": [
  {
   "cell_type": "markdown",
   "id": "d6dec467",
   "metadata": {},
   "source": [
    "# pg100.txt"
   ]
  },
  {
   "cell_type": "markdown",
   "id": "f8db8e7f",
   "metadata": {},
   "source": [
    "## Let's turn all the words in pg100.txt into lowercase and save the data in list of lists format where each sublist represents a line"
   ]
  },
  {
   "cell_type": "code",
   "execution_count": null,
   "id": "5ee8fdf1",
   "metadata": {},
   "outputs": [],
   "source": [
    "# Open and read the file\n",
    "# Here's a list of available encodings in python3.10\n",
    "    # but of course the list might change by end of the semester in upcoming updates\n",
    "# https://docs.python.org/3.10/library/codecs.html#standard-encodings\n",
    "f = open(\"pg100.txt\", \"r\", encoding=\"utf-8-sig\") # In this case we use \"utf-8-sig\" encoding\n",
    "data = f.readlines()\n",
    "f.close()"
   ]
  },
  {
   "cell_type": "code",
   "execution_count": null,
   "id": "d296ef61",
   "metadata": {},
   "outputs": [],
   "source": [
    "# Observe the data that we just read in\n",
    "data"
   ]
  },
  {
   "cell_type": "code",
   "execution_count": null,
   "id": "10866733",
   "metadata": {},
   "outputs": [],
   "source": [
    "# Looking at line 2022, we can see that the string contains leading whitespaces and trailing whitespaces('\\n')\n",
    "data[2022]"
   ]
  },
  {
   "cell_type": "code",
   "execution_count": null,
   "id": "e0fae398",
   "metadata": {},
   "outputs": [],
   "source": [
    "# The strip function can help us remove both leading and trailing whitespaces\n",
    "data[2022].strip()"
   ]
  },
  {
   "cell_type": "code",
   "execution_count": null,
   "id": "5fc54604",
   "metadata": {},
   "outputs": [],
   "source": [
    "# In case you need to only remove leading whitespaces, use the left strip function .lstrip()\n",
    "data[2022].lstrip()"
   ]
  },
  {
   "cell_type": "code",
   "execution_count": null,
   "id": "a4372960",
   "metadata": {},
   "outputs": [],
   "source": [
    "# Conversely, to only remove trailing whitespaces, use the right strip function .rstrip()\n",
    "data[2022].rstrip()"
   ]
  },
  {
   "cell_type": "code",
   "execution_count": null,
   "id": "dc434be9",
   "metadata": {},
   "outputs": [],
   "source": [
    "# After removing the whitespaces, we can split the string into smaller pieces using the split function .split()\n",
    "    # no delimiter argument needed in this case because the default setting is spaces\n",
    "data[2022].strip().split()"
   ]
  },
  {
   "cell_type": "code",
   "execution_count": null,
   "id": "445825c3",
   "metadata": {},
   "outputs": [],
   "source": [
    "# For better understanding, let's save the list in a variable \n",
    "data2022 = data[2022].strip().split()\n",
    "data2022"
   ]
  },
  {
   "cell_type": "code",
   "execution_count": null,
   "id": "c8d787b3",
   "metadata": {},
   "outputs": [],
   "source": [
    "# List elements are mutable, so we can apply the lower case function .lower to the elements of the string one by one\n",
    "    # and replace the original elements with the ones that are in lower case\n",
    "for j in range(len(data2022)):\n",
    "    data2022[j] = data2022[j].lower()\n",
    "data2022"
   ]
  },
  {
   "cell_type": "code",
   "execution_count": null,
   "id": "6dfb3ace",
   "metadata": {},
   "outputs": [],
   "source": [
    "# Remember that we only turned the (2022-1)th row of the data (Python counts from 0) into a lower cased word by word list\n",
    "    # if we would like to apply the same method to all 124,787 lines of the data,\n",
    "    # we will need to do it 124,787 times\n",
    "len(data)"
   ]
  },
  {
   "cell_type": "code",
   "execution_count": null,
   "id": "1766d511",
   "metadata": {},
   "outputs": [],
   "source": [
    "# Here, we implement another for loop to accomplish the goal\n",
    "    # len(data[i]) varies by how many words are there in the (i)th line\n",
    "for i in range(len(data)):\n",
    "    data[i] = data[i].strip().split()\n",
    "    for j in range(len(data[i])):\n",
    "        data[i][j] = data[i][j].lower()\n",
    "\n",
    "data"
   ]
  }
 ],
 "metadata": {
  "kernelspec": {
   "display_name": "Python 3 (ipykernel)",
   "language": "python",
   "name": "python3"
  },
  "language_info": {
   "codemirror_mode": {
    "name": "ipython",
    "version": 3
   },
   "file_extension": ".py",
   "mimetype": "text/x-python",
   "name": "python",
   "nbconvert_exporter": "python",
   "pygments_lexer": "ipython3",
   "version": "3.9.12"
  }
 },
 "nbformat": 4,
 "nbformat_minor": 5
}
